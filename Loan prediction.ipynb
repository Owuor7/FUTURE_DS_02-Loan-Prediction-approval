{
 "cells": [
  {
   "cell_type": "markdown",
   "id": "e6683d13-82de-4606-9cce-533822a5c1bd",
   "metadata": {},
   "source": [
    "This Jupyter notebook presents a Loan Prediction Model aimed at determining the approval status of loans. The dataset used in this analysis was preprocessed and explored to gain insights into the features impacting loan approval.\n",
    "\n",
    "The loan status is a binary target variable where:\n",
    "\n",
    "1 represents a loan being approved, and\n",
    "0 represents a loan being denied.\n",
    "Modeling Approach:\n",
    "I employed three different machine learning models to predict the loan status:\n",
    "\n",
    "Decision Tree Classifier: A simple and interpretable model that splits the data based on features to make predictions.\n",
    "Random Forest Classifier: An ensemble learning method that builds multiple decision trees and combines their outputs for more robust predictions.\n",
    "Gaussian Naive Bayes (GNB): A probabilistic model based on Bayes' theorem, assuming that the features follow a normal distribution.\n",
    "Model Performance:\n",
    "After training and testing the models, the Gaussian Naive Bayes model outperformed the other two, achieving the best prediction accuracy. Its performance can be attributed to its ability to handle categorical and numerical variables efficiently, along with its probabilistic nature, which tends to generalize well on unseen data.\n",
    "\n",
    "\n",
    "Among the three models:\n",
    "\n",
    "Gaussian Naive Bayes proved to be the most effective in predicting the loan status, followed by the Random Forest and Decision Tree models.\n",
    "The results suggest that a probabilistic approach like Naive Bayes might capture the relationships between loan features and their outcomes more effectively for this particular dataset.\n",
    "This analysis highlights the potential for improving loan approval prediction using machine learning techniques and shows the effectiveness of different algorithms in solving such binary classification problems.\n",
    "\n",
    "Key Insights from Loan Prediction Analysis:\n",
    "Applicant Income and Education Level:\n",
    "\n",
    "The ApplicantIncome feature shows significant variability, with graduates having higher income on average compared to non-graduates.\n",
    "However, both groups contain outliers, as seen in the boxplot analysis, with some applicants having extremely high incomes.\n",
    "Credit History as a Major Predictor:\n",
    "\n",
    "The loan status is heavily influenced by Credit History. Applicants with a clear credit history (value of 1.0) have a much higher probability of loan approval than those with a poor credit history (value of 0.0).\n",
    "Distribution of Loan Approval:\n",
    "\n",
    "There is an overall imbalance between approved and denied loans, with more loans being approved than denied.\n",
    "\n",
    "Outlier Impact:\n",
    "\n",
    "There are notable outliers in income distribution that could impact model performance. Removing or handling these outliers might lead to improved prediction accuracy in future iterations of the model.\n",
    "Conclusion:\n",
    "The analysis indicates that features such as Credit History and Applicant Income play critical roles in predicting loan approval. A balanced approach using a probabilistic model like Gaussian Naive Bayes was most successful, making it the recommended model for this task."
   ]
  },
  {
   "cell_type": "code",
   "execution_count": 1,
   "id": "7b4e847f-8973-4628-afaa-24d76f23e6b1",
   "metadata": {},
   "outputs": [],
   "source": [
    "#import necessary libraries \n",
    "import pandas as pd #for data manipulation \n",
    "import numpy as np #for numerical python \n",
    "import matplotlib.pyplot as plt #data visualization \n",
    "import seaborn as sns #data visualizzation \n",
    "%matplotlib inline "
   ]
  },
  {
   "cell_type": "code",
   "execution_count": 2,
   "id": "efff7ba6-56ab-44f4-b9be-5b7a5a4b8a1f",
   "metadata": {},
   "outputs": [],
   "source": [
    "df=pd.read_csv(\"C:\\\\Users\\\\Administrator\\\\Downloads\\\\loan.csv\")"
   ]
  },
  {
   "cell_type": "code",
   "execution_count": 3,
   "id": "12c55d4d-6f79-4f55-ba29-b990c5ae08ee",
   "metadata": {},
   "outputs": [
    {
     "data": {
      "text/html": [
       "<div>\n",
       "<style scoped>\n",
       "    .dataframe tbody tr th:only-of-type {\n",
       "        vertical-align: middle;\n",
       "    }\n",
       "\n",
       "    .dataframe tbody tr th {\n",
       "        vertical-align: top;\n",
       "    }\n",
       "\n",
       "    .dataframe thead th {\n",
       "        text-align: right;\n",
       "    }\n",
       "</style>\n",
       "<table border=\"1\" class=\"dataframe\">\n",
       "  <thead>\n",
       "    <tr style=\"text-align: right;\">\n",
       "      <th></th>\n",
       "      <th>Loan_ID</th>\n",
       "      <th>Gender</th>\n",
       "      <th>Married</th>\n",
       "      <th>Dependents</th>\n",
       "      <th>Education</th>\n",
       "      <th>Self_Employed</th>\n",
       "      <th>ApplicantIncome</th>\n",
       "      <th>CoapplicantIncome</th>\n",
       "      <th>LoanAmount</th>\n",
       "      <th>Loan_Amount_Term</th>\n",
       "      <th>Credit_History</th>\n",
       "      <th>Property_Area</th>\n",
       "      <th>Loan_Status</th>\n",
       "    </tr>\n",
       "  </thead>\n",
       "  <tbody>\n",
       "    <tr>\n",
       "      <th>0</th>\n",
       "      <td>LP001002</td>\n",
       "      <td>Male</td>\n",
       "      <td>No</td>\n",
       "      <td>0</td>\n",
       "      <td>Graduate</td>\n",
       "      <td>No</td>\n",
       "      <td>5849</td>\n",
       "      <td>0.0</td>\n",
       "      <td>NaN</td>\n",
       "      <td>360.0</td>\n",
       "      <td>1.0</td>\n",
       "      <td>Urban</td>\n",
       "      <td>Y</td>\n",
       "    </tr>\n",
       "    <tr>\n",
       "      <th>1</th>\n",
       "      <td>LP001003</td>\n",
       "      <td>Male</td>\n",
       "      <td>Yes</td>\n",
       "      <td>1</td>\n",
       "      <td>Graduate</td>\n",
       "      <td>No</td>\n",
       "      <td>4583</td>\n",
       "      <td>1508.0</td>\n",
       "      <td>128.0</td>\n",
       "      <td>360.0</td>\n",
       "      <td>1.0</td>\n",
       "      <td>Rural</td>\n",
       "      <td>N</td>\n",
       "    </tr>\n",
       "    <tr>\n",
       "      <th>2</th>\n",
       "      <td>LP001005</td>\n",
       "      <td>Male</td>\n",
       "      <td>Yes</td>\n",
       "      <td>0</td>\n",
       "      <td>Graduate</td>\n",
       "      <td>Yes</td>\n",
       "      <td>3000</td>\n",
       "      <td>0.0</td>\n",
       "      <td>66.0</td>\n",
       "      <td>360.0</td>\n",
       "      <td>1.0</td>\n",
       "      <td>Urban</td>\n",
       "      <td>Y</td>\n",
       "    </tr>\n",
       "    <tr>\n",
       "      <th>3</th>\n",
       "      <td>LP001006</td>\n",
       "      <td>Male</td>\n",
       "      <td>Yes</td>\n",
       "      <td>0</td>\n",
       "      <td>Not Graduate</td>\n",
       "      <td>No</td>\n",
       "      <td>2583</td>\n",
       "      <td>2358.0</td>\n",
       "      <td>120.0</td>\n",
       "      <td>360.0</td>\n",
       "      <td>1.0</td>\n",
       "      <td>Urban</td>\n",
       "      <td>Y</td>\n",
       "    </tr>\n",
       "    <tr>\n",
       "      <th>4</th>\n",
       "      <td>LP001008</td>\n",
       "      <td>Male</td>\n",
       "      <td>No</td>\n",
       "      <td>0</td>\n",
       "      <td>Graduate</td>\n",
       "      <td>No</td>\n",
       "      <td>6000</td>\n",
       "      <td>0.0</td>\n",
       "      <td>141.0</td>\n",
       "      <td>360.0</td>\n",
       "      <td>1.0</td>\n",
       "      <td>Urban</td>\n",
       "      <td>Y</td>\n",
       "    </tr>\n",
       "  </tbody>\n",
       "</table>\n",
       "</div>"
      ],
      "text/plain": [
       "    Loan_ID Gender Married Dependents     Education Self_Employed  \\\n",
       "0  LP001002   Male      No          0      Graduate            No   \n",
       "1  LP001003   Male     Yes          1      Graduate            No   \n",
       "2  LP001005   Male     Yes          0      Graduate           Yes   \n",
       "3  LP001006   Male     Yes          0  Not Graduate            No   \n",
       "4  LP001008   Male      No          0      Graduate            No   \n",
       "\n",
       "   ApplicantIncome  CoapplicantIncome  LoanAmount  Loan_Amount_Term  \\\n",
       "0             5849                0.0         NaN             360.0   \n",
       "1             4583             1508.0       128.0             360.0   \n",
       "2             3000                0.0        66.0             360.0   \n",
       "3             2583             2358.0       120.0             360.0   \n",
       "4             6000                0.0       141.0             360.0   \n",
       "\n",
       "   Credit_History Property_Area Loan_Status  \n",
       "0             1.0         Urban           Y  \n",
       "1             1.0         Rural           N  \n",
       "2             1.0         Urban           Y  \n",
       "3             1.0         Urban           Y  \n",
       "4             1.0         Urban           Y  "
      ]
     },
     "execution_count": 3,
     "metadata": {},
     "output_type": "execute_result"
    }
   ],
   "source": [
    "#print the first 5 rows of the dataset\n",
    "df.head()"
   ]
  },
  {
   "cell_type": "code",
   "execution_count": 4,
   "id": "d5512a19-e4c6-4ebd-9acd-99b491b5c51d",
   "metadata": {},
   "outputs": [
    {
     "name": "stdout",
     "output_type": "stream",
     "text": [
      "614 number of rows in the dataset\n",
      "13 number of columns in the dataset\n"
     ]
    }
   ],
   "source": [
    "#find the shape of the dataset \n",
    "print(df.shape[0],'number of rows in the dataset')\n",
    "print(df.shape[1],'number of columns in the dataset')"
   ]
  },
  {
   "cell_type": "code",
   "execution_count": 5,
   "id": "1923e362-e128-4bec-83d9-6caa188e6784",
   "metadata": {},
   "outputs": [
    {
     "name": "stdout",
     "output_type": "stream",
     "text": [
      "<class 'pandas.core.frame.DataFrame'>\n",
      "RangeIndex: 614 entries, 0 to 613\n",
      "Data columns (total 13 columns):\n",
      " #   Column             Non-Null Count  Dtype  \n",
      "---  ------             --------------  -----  \n",
      " 0   Loan_ID            614 non-null    object \n",
      " 1   Gender             601 non-null    object \n",
      " 2   Married            611 non-null    object \n",
      " 3   Dependents         599 non-null    object \n",
      " 4   Education          614 non-null    object \n",
      " 5   Self_Employed      582 non-null    object \n",
      " 6   ApplicantIncome    614 non-null    int64  \n",
      " 7   CoapplicantIncome  614 non-null    float64\n",
      " 8   LoanAmount         592 non-null    float64\n",
      " 9   Loan_Amount_Term   600 non-null    float64\n",
      " 10  Credit_History     564 non-null    float64\n",
      " 11  Property_Area      614 non-null    object \n",
      " 12  Loan_Status        614 non-null    object \n",
      "dtypes: float64(4), int64(1), object(8)\n",
      "memory usage: 62.5+ KB\n"
     ]
    }
   ],
   "source": [
    "#check dataset info \n",
    "df.info()"
   ]
  },
  {
   "cell_type": "markdown",
   "id": "59a1bd0b-e620-4c13-8a93-f77efcc47696",
   "metadata": {},
   "source": [
    "The dataset has 3 datatypes,float,int and object. "
   ]
  },
  {
   "cell_type": "code",
   "execution_count": 7,
   "id": "05856c20-7f3e-43ef-a365-8d8892b1e2ea",
   "metadata": {},
   "outputs": [
    {
     "data": {
      "text/html": [
       "<div>\n",
       "<style scoped>\n",
       "    .dataframe tbody tr th:only-of-type {\n",
       "        vertical-align: middle;\n",
       "    }\n",
       "\n",
       "    .dataframe tbody tr th {\n",
       "        vertical-align: top;\n",
       "    }\n",
       "\n",
       "    .dataframe thead th {\n",
       "        text-align: right;\n",
       "    }\n",
       "</style>\n",
       "<table border=\"1\" class=\"dataframe\">\n",
       "  <thead>\n",
       "    <tr style=\"text-align: right;\">\n",
       "      <th></th>\n",
       "      <th>ApplicantIncome</th>\n",
       "      <th>CoapplicantIncome</th>\n",
       "      <th>LoanAmount</th>\n",
       "      <th>Loan_Amount_Term</th>\n",
       "      <th>Credit_History</th>\n",
       "    </tr>\n",
       "  </thead>\n",
       "  <tbody>\n",
       "    <tr>\n",
       "      <th>count</th>\n",
       "      <td>614.000000</td>\n",
       "      <td>614.000000</td>\n",
       "      <td>592.000000</td>\n",
       "      <td>600.00000</td>\n",
       "      <td>564.000000</td>\n",
       "    </tr>\n",
       "    <tr>\n",
       "      <th>mean</th>\n",
       "      <td>5403.459283</td>\n",
       "      <td>1621.245798</td>\n",
       "      <td>146.412162</td>\n",
       "      <td>342.00000</td>\n",
       "      <td>0.842199</td>\n",
       "    </tr>\n",
       "    <tr>\n",
       "      <th>std</th>\n",
       "      <td>6109.041673</td>\n",
       "      <td>2926.248369</td>\n",
       "      <td>85.587325</td>\n",
       "      <td>65.12041</td>\n",
       "      <td>0.364878</td>\n",
       "    </tr>\n",
       "    <tr>\n",
       "      <th>min</th>\n",
       "      <td>150.000000</td>\n",
       "      <td>0.000000</td>\n",
       "      <td>9.000000</td>\n",
       "      <td>12.00000</td>\n",
       "      <td>0.000000</td>\n",
       "    </tr>\n",
       "    <tr>\n",
       "      <th>25%</th>\n",
       "      <td>2877.500000</td>\n",
       "      <td>0.000000</td>\n",
       "      <td>100.000000</td>\n",
       "      <td>360.00000</td>\n",
       "      <td>1.000000</td>\n",
       "    </tr>\n",
       "    <tr>\n",
       "      <th>50%</th>\n",
       "      <td>3812.500000</td>\n",
       "      <td>1188.500000</td>\n",
       "      <td>128.000000</td>\n",
       "      <td>360.00000</td>\n",
       "      <td>1.000000</td>\n",
       "    </tr>\n",
       "    <tr>\n",
       "      <th>75%</th>\n",
       "      <td>5795.000000</td>\n",
       "      <td>2297.250000</td>\n",
       "      <td>168.000000</td>\n",
       "      <td>360.00000</td>\n",
       "      <td>1.000000</td>\n",
       "    </tr>\n",
       "    <tr>\n",
       "      <th>max</th>\n",
       "      <td>81000.000000</td>\n",
       "      <td>41667.000000</td>\n",
       "      <td>700.000000</td>\n",
       "      <td>480.00000</td>\n",
       "      <td>1.000000</td>\n",
       "    </tr>\n",
       "  </tbody>\n",
       "</table>\n",
       "</div>"
      ],
      "text/plain": [
       "       ApplicantIncome  CoapplicantIncome  LoanAmount  Loan_Amount_Term  \\\n",
       "count       614.000000         614.000000  592.000000         600.00000   \n",
       "mean       5403.459283        1621.245798  146.412162         342.00000   \n",
       "std        6109.041673        2926.248369   85.587325          65.12041   \n",
       "min         150.000000           0.000000    9.000000          12.00000   \n",
       "25%        2877.500000           0.000000  100.000000         360.00000   \n",
       "50%        3812.500000        1188.500000  128.000000         360.00000   \n",
       "75%        5795.000000        2297.250000  168.000000         360.00000   \n",
       "max       81000.000000       41667.000000  700.000000         480.00000   \n",
       "\n",
       "       Credit_History  \n",
       "count      564.000000  \n",
       "mean         0.842199  \n",
       "std          0.364878  \n",
       "min          0.000000  \n",
       "25%          1.000000  \n",
       "50%          1.000000  \n",
       "75%          1.000000  \n",
       "max          1.000000  "
      ]
     },
     "execution_count": 7,
     "metadata": {},
     "output_type": "execute_result"
    }
   ],
   "source": [
    "#statistical analysis \n",
    "df.describe()"
   ]
  },
  {
   "cell_type": "markdown",
   "id": "6204d226-4167-49cc-9606-cc9e637db251",
   "metadata": {},
   "source": [
    "Key Insights:\n",
    "\n",
    "Applicant Income varies widely, ranging from 150 to 81,000, with a significant standard deviation indicating high income disparities.\n",
    "\n",
    "Many applicants did not have a co-applicant (as indicated by the 0 values for coapplicant income at the 25th percentile).\n",
    "Loan amounts also show substantial variation, with most loans ranging between 100 and 168 units.\n",
    "\n",
    "The majority of loans have a term of 360 months (30 years).\n",
    "\n",
    "Most applicants had a good credit history (as the median credit history is 1, indicating no defaults)."
   ]
  },
  {
   "cell_type": "code",
   "execution_count": 9,
   "id": "6e247ee2-ffbd-4b25-a0e8-32439f023b2c",
   "metadata": {},
   "outputs": [
    {
     "data": {
      "text/html": [
       "<div>\n",
       "<style scoped>\n",
       "    .dataframe tbody tr th:only-of-type {\n",
       "        vertical-align: middle;\n",
       "    }\n",
       "\n",
       "    .dataframe tbody tr th {\n",
       "        vertical-align: top;\n",
       "    }\n",
       "\n",
       "    .dataframe thead th {\n",
       "        text-align: right;\n",
       "    }\n",
       "</style>\n",
       "<table border=\"1\" class=\"dataframe\">\n",
       "  <thead>\n",
       "    <tr style=\"text-align: right;\">\n",
       "      <th>Loan_Status</th>\n",
       "      <th>N</th>\n",
       "      <th>Y</th>\n",
       "      <th>All</th>\n",
       "    </tr>\n",
       "    <tr>\n",
       "      <th>Credit_History</th>\n",
       "      <th></th>\n",
       "      <th></th>\n",
       "      <th></th>\n",
       "    </tr>\n",
       "  </thead>\n",
       "  <tbody>\n",
       "    <tr>\n",
       "      <th>0.0</th>\n",
       "      <td>82</td>\n",
       "      <td>7</td>\n",
       "      <td>89</td>\n",
       "    </tr>\n",
       "    <tr>\n",
       "      <th>1.0</th>\n",
       "      <td>97</td>\n",
       "      <td>378</td>\n",
       "      <td>475</td>\n",
       "    </tr>\n",
       "    <tr>\n",
       "      <th>All</th>\n",
       "      <td>179</td>\n",
       "      <td>385</td>\n",
       "      <td>564</td>\n",
       "    </tr>\n",
       "  </tbody>\n",
       "</table>\n",
       "</div>"
      ],
      "text/plain": [
       "Loan_Status       N    Y  All\n",
       "Credit_History               \n",
       "0.0              82    7   89\n",
       "1.0              97  378  475\n",
       "All             179  385  564"
      ]
     },
     "execution_count": 9,
     "metadata": {},
     "output_type": "execute_result"
    }
   ],
   "source": [
    "#how the credit history affect the loan status of each apllicant \n",
    "pd.crosstab(df['Credit_History'],df['Loan_Status'],margins =True)"
   ]
  },
  {
   "cell_type": "markdown",
   "id": "1e2ffc76-6f60-40ba-8dfe-195cdacaf89c",
   "metadata": {},
   "source": [
    "Key Insights:\n",
    "Applicants with poor credit history (0.0):\n",
    "\n",
    "82 applicants with poor credit history were denied a loan.\n",
    "7 applicants with poor credit history were approved for a loan.\n",
    "Total: 89 applicants had a poor credit history.\n",
    "\n",
    "Applicants with good credit history (1.0):\n",
    "\n",
    "97 applicants with good credit history were denied a loan.\n",
    "378 applicants with good credit history were approved for a loan.\n",
    "Total: 475 applicants had a good credit history.\n",
    "\n",
    "Overall totals:\n",
    "\n",
    "179 loans were not approved.\n",
    "385 loans were approved.\n",
    "Total: 564 loan applications were processed in total.\n",
    "\n",
    "Summary:\n",
    "Approval rate is significantly higher for applicants with good credit history (378 approvals out of 475) compared to those with poor credit history (only 7 approvals out of 89).\n",
    "Poor credit history leads to a much higher rate of loan denial."
   ]
  },
  {
   "cell_type": "code",
   "execution_count": 11,
   "id": "d21a7a04-3c4d-483b-b49e-a4e79a30901d",
   "metadata": {},
   "outputs": [
    {
     "data": {
      "image/png": "[encoded data removed]",
      "text/plain": [
       "<Figure size 600x400 with 1 Axes>"
      ]
     },
     "metadata": {},
     "output_type": "display_data"
    }
   ],
   "source": [
    "plt.figure(figsize=(6,4))  # Set the figure size\n",
    "# Create the boxplot for ApplicantIncome\n",
    "df.boxplot(column='ApplicantIncome')\n",
    "# Add labels and title\n",
    "plt.title('Applicant Income Distribution')\n",
    "plt.ylabel('Income')\n",
    "plt.xlabel('Applicant Income')\n",
    "# Show the plot\n",
    "plt.show()"
   ]
  },
  {
   "cell_type": "markdown",
   "id": "035387d0-c19f-4cdc-a721-39b8f4d4a4ab",
   "metadata": {},
   "source": [
    "Interpretation:\n",
    "\n",
    "The majority of the applicants have incomes clustered around a lower range, but there is a small number of applicants with much higher incomes (outliers).\n",
    "\n",
    "The presence of many outliers suggests that applicant incomes in this dataset vary significantly, with a few applicants earning considerably more than the rest."
   ]
  },
  {
   "cell_type": "code",
   "execution_count": 13,
   "id": "c0be1b03-9106-4175-8c88-d5f2833aa64f",
   "metadata": {},
   "outputs": [
    {
     "data": {
      "image/png": "[encoded data removed]",
      "text/plain": [
       "<Figure size 640x480 with 1 Axes>"
      ]
     },
     "metadata": {},
     "output_type": "display_data"
    },
    {
     "data": {
      "text/plain": [
       "<Figure size 600x400 with 0 Axes>"
      ]
     },
     "metadata": {},
     "output_type": "display_data"
    }
   ],
   "source": [
    "#histogram for Applicant income \n",
    "df['ApplicantIncome'].hist(bins=20)\n",
    "plt.figure(figsize=(6,4))  # Set the figure size\n",
    "plt.show()"
   ]
  },
  {
   "cell_type": "code",
   "execution_count": 14,
   "id": "a2102fe9-62f5-4e8d-9080-29e9098c781e",
   "metadata": {},
   "outputs": [
    {
     "data": {
      "image/png": "[encoded data removed]",
      "text/plain": [
       "<Figure size 1200x600 with 1 Axes>"
      ]
     },
     "metadata": {},
     "output_type": "display_data"
    },
    {
     "name": "stdout",
     "output_type": "stream",
     "text": [
      "                     mean          std\n",
      "Education                             \n",
      "Graduate      5857.433333  6739.797954\n",
      "Not Graduate  3777.283582  2237.081586\n"
     ]
    }
   ],
   "source": [
    "# Set figure size for the plot\n",
    "plt.figure(figsize=(12, 6))  # Increased figure width\n",
    "\n",
    "# Create a boxplot with color differentiation for each group (Graduate, Not Graduate)\n",
    "sns.boxplot(x='Education', y='ApplicantIncome', data=df, palette='Set2', showfliers=False)  # showfliers=False removes outliers\n",
    "\n",
    "# Overlay a stripplot (alternative to swarmplot) to show the actual data points distribution\n",
    "sns.stripplot(x='Education', y='ApplicantIncome', data=df, color='.25', jitter=True)  # Use stripplot instead of swarmplot\n",
    "\n",
    "# Add title and axis labels\n",
    "plt.title('Applicant Income by Education Level (Outliers Removed)', fontsize=16)\n",
    "plt.ylabel('Applicant Income', fontsize=12)\n",
    "plt.xlabel('Education', fontsize=12)\n",
    "\n",
    "# Display the plot\n",
    "plt.show()\n",
    "\n",
    "# Calculate and display statistical summary (mean, std) per group\n",
    "summary = df.groupby('Education')['ApplicantIncome'].agg(['mean', 'std'])\n",
    "print(summary)"
   ]
  },
  {
   "cell_type": "markdown",
   "id": "52c62301-98b1-4082-8d1a-d40ccbe0d9c2",
   "metadata": {},
   "source": [
    "Key Observations:\n",
    "Outliers:\n",
    "\n",
    "Several high-income outliers are present in the Graduate group, with some applicants earning over 40,000 and even up to 80,000. These are shown as individual dots above the main boxplot.\n",
    "The Not Graduate group has fewer and lower outliers, indicating more consistency in income distribution among non-graduates.\n",
    "Distribution:\n",
    "\n",
    "Most of the data points for both groups are clustered below 10,000, as evidenced by the dense grouping of dots around this range. This suggests that the majority of applicants, regardless of their education level, earn relatively modest incomes.\n",
    "Variability:\n",
    "\n",
    "The box for Graduates is taller, indicating higher variability in income, while the box for Not Graduates is shorter, showing less variability. This aligns with the earlier statistical summary, where graduates have both a higher mean income and a larger standard deviation.\n",
    "\n",
    "Key Insights:\n",
    "Graduate applicants generally earn more than non-graduates, as shown by the higher median income and wider spread of values.\n",
    "\n",
    "There are several high-income outliers, especially among the graduates, which indicates that a small number of applicants earn significantly more than others."
   ]
  },
  {
   "cell_type": "code",
   "execution_count": 16,
   "id": "0edea540-88f1-4384-99ea-76ef2f94e1ab",
   "metadata": {},
   "outputs": [
    {
     "data": {
      "text/plain": [
       "<Axes: >"
      ]
     },
     "execution_count": 16,
     "metadata": {},
     "output_type": "execute_result"
    },
    {
     "data": {
      "image/png": "[encoded data removed]",
      "text/plain": [
       "<Figure size 640x480 with 1 Axes>"
      ]
     },
     "metadata": {},
     "output_type": "display_data"
    }
   ],
   "source": [
    "#loan amount variable \n",
    "df.boxplot(column='LoanAmount')"
   ]
  },
  {
   "cell_type": "markdown",
   "id": "c1704aed-13fb-4e56-ab0b-4856beca8f73",
   "metadata": {},
   "source": [
    "Loan amount column has outliers "
   ]
  },
  {
   "cell_type": "code",
   "execution_count": 18,
   "id": "3fb10bed-1469-4b57-b15b-a294dd8a8bfc",
   "metadata": {},
   "outputs": [
    {
     "data": {
      "text/plain": [
       "<Axes: >"
      ]
     },
     "execution_count": 18,
     "metadata": {},
     "output_type": "execute_result"
    },
    {
     "data": {
      "image/png": "[encoded data removed]",
      "text/plain": [
       "<Figure size 640x480 with 1 Axes>"
      ]
     },
     "metadata": {},
     "output_type": "display_data"
    }
   ],
   "source": [
    "df['LoanAmount'].hist(bins=20)"
   ]
  },
  {
   "cell_type": "code",
   "execution_count": 19,
   "id": "df6c17ec-05c1-4d79-84ed-e9c245f0b17d",
   "metadata": {},
   "outputs": [
    {
     "data": {
      "text/plain": [
       "<Axes: >"
      ]
     },
     "execution_count": 19,
     "metadata": {},
     "output_type": "execute_result"
    },
    {
     "data": {
      "image/png": "[encoded data removed]",
      "text/plain": [
       "<Figure size 640x480 with 1 Axes>"
      ]
     },
     "metadata": {},
     "output_type": "display_data"
    }
   ],
   "source": [
    "#normalizing loan amount \n",
    "df['Loanamount_log']=np.log(df['LoanAmount'])\n",
    "df['Loanamount_log'].hist(bins=20)"
   ]
  },
  {
   "cell_type": "code",
   "execution_count": 20,
   "id": "ea76503c-773a-41e7-a56c-15fe9712d5e5",
   "metadata": {},
   "outputs": [
    {
     "data": {
      "text/plain": [
       "Loan_ID               0\n",
       "Gender               13\n",
       "Married               3\n",
       "Dependents           15\n",
       "Education             0\n",
       "Self_Employed        32\n",
       "ApplicantIncome       0\n",
       "CoapplicantIncome     0\n",
       "LoanAmount           22\n",
       "Loan_Amount_Term     14\n",
       "Credit_History       50\n",
       "Property_Area         0\n",
       "Loan_Status           0\n",
       "Loanamount_log       22\n",
       "dtype: int64"
      ]
     },
     "execution_count": 20,
     "metadata": {},
     "output_type": "execute_result"
    }
   ],
   "source": [
    "#checking for nulls\n",
    "df.isnull().sum()"
   ]
  },
  {
   "cell_type": "code",
   "execution_count": 21,
   "id": "31d0a692-9844-45d6-b407-c82b18d54164",
   "metadata": {},
   "outputs": [],
   "source": [
    "#We replace the missing values with mode for categorical columns\n",
    "df['Gender'].fillna(df['Gender'].mode()[0],inplace =True)\n",
    "df['Married'].fillna(df['Married'].mode()[0],inplace =True)\n",
    "df['Dependents'].fillna(df['Dependents'].mode()[0],inplace =True)\n",
    "df['Self_Employed'].fillna(df['Self_Employed'].mode()[0],inplace =True)\n",
    "df['Loan_Amount_Term'].fillna(df['Loan_Amount_Term'].mode()[0],inplace = True)\n",
    "df['Credit_History'].fillna(df['Credit_History'].mode()[0],inplace = True)"
   ]
  },
  {
   "cell_type": "code",
   "execution_count": 22,
   "id": "c6889a09-78e8-47aa-8e74-0fb581f75271",
   "metadata": {},
   "outputs": [],
   "source": [
    "#replace the missing values with mean in non categorical column\n",
    "df.LoanAmount=df.LoanAmount.fillna(df.LoanAmount.mean())\n",
    "df.Loanamount_log =df.Loanamount_log .fillna(df['Loanamount_log'].mean())\n",
    "\n"
   ]
  },
  {
   "cell_type": "code",
   "execution_count": 23,
   "id": "9697e9b7-3b02-4eb0-8e0e-6825f0e80309",
   "metadata": {},
   "outputs": [
    {
     "data": {
      "text/plain": [
       "Loan_ID              0\n",
       "Gender               0\n",
       "Married              0\n",
       "Dependents           0\n",
       "Education            0\n",
       "Self_Employed        0\n",
       "ApplicantIncome      0\n",
       "CoapplicantIncome    0\n",
       "LoanAmount           0\n",
       "Loan_Amount_Term     0\n",
       "Credit_History       0\n",
       "Property_Area        0\n",
       "Loan_Status          0\n",
       "Loanamount_log       0\n",
       "dtype: int64"
      ]
     },
     "execution_count": 23,
     "metadata": {},
     "output_type": "execute_result"
    }
   ],
   "source": [
    "df.isnull().sum()"
   ]
  },
  {
   "cell_type": "markdown",
   "id": "3263648b-a6d7-4e0f-953f-f27864cc4386",
   "metadata": {},
   "source": [
    "All the null values have been replaced with either mean for non categorical varaibles and mode for categorical variables "
   ]
  },
  {
   "cell_type": "code",
   "execution_count": 25,
   "id": "53968cff-9434-4669-ae49-62b870b77916",
   "metadata": {},
   "outputs": [],
   "source": [
    "#normalization of total income and Applicant income \n",
    "df['TotalIncome']=df['ApplicantIncome']+df['CoapplicantIncome']\n",
    "df['TotalIncome_log']=np.log(df['TotalIncome'])"
   ]
  },
  {
   "cell_type": "code",
   "execution_count": 26,
   "id": "4b782d9e-1f47-4ea1-a40d-80f3539c1d5f",
   "metadata": {},
   "outputs": [
    {
     "data": {
      "text/plain": [
       "<Axes: >"
      ]
     },
     "execution_count": 26,
     "metadata": {},
     "output_type": "execute_result"
    },
    {
     "data": {
      "image/png": "[encoded data removed]",
      "text/plain": [
       "<Figure size 640x480 with 1 Axes>"
      ]
     },
     "metadata": {},
     "output_type": "display_data"
    }
   ],
   "source": [
    "#use histogram to check if the values have been normalize and there is no skewness\n",
    "df['TotalIncome_log'].hist(bins=20)"
   ]
  },
  {
   "cell_type": "markdown",
   "id": "9755f6fa-5758-4a0e-96d2-6b6c59237b9f",
   "metadata": {},
   "source": [
    "The values have been normalized complitely"
   ]
  },
  {
   "cell_type": "code",
   "execution_count": 28,
   "id": "564b776a-27ce-483c-b145-668c54a7c0da",
   "metadata": {},
   "outputs": [
    {
     "data": {
      "text/html": [
       "<div>\n",
       "<style scoped>\n",
       "    .dataframe tbody tr th:only-of-type {\n",
       "        vertical-align: middle;\n",
       "    }\n",
       "\n",
       "    .dataframe tbody tr th {\n",
       "        vertical-align: top;\n",
       "    }\n",
       "\n",
       "    .dataframe thead th {\n",
       "        text-align: right;\n",
       "    }\n",
       "</style>\n",
       "<table border=\"1\" class=\"dataframe\">\n",
       "  <thead>\n",
       "    <tr style=\"text-align: right;\">\n",
       "      <th></th>\n",
       "      <th>Loan_ID</th>\n",
       "      <th>Gender</th>\n",
       "      <th>Married</th>\n",
       "      <th>Dependents</th>\n",
       "      <th>Education</th>\n",
       "      <th>Self_Employed</th>\n",
       "      <th>ApplicantIncome</th>\n",
       "      <th>CoapplicantIncome</th>\n",
       "      <th>LoanAmount</th>\n",
       "      <th>Loan_Amount_Term</th>\n",
       "      <th>Credit_History</th>\n",
       "      <th>Property_Area</th>\n",
       "      <th>Loan_Status</th>\n",
       "      <th>Loanamount_log</th>\n",
       "      <th>TotalIncome</th>\n",
       "      <th>TotalIncome_log</th>\n",
       "    </tr>\n",
       "  </thead>\n",
       "  <tbody>\n",
       "    <tr>\n",
       "      <th>0</th>\n",
       "      <td>LP001002</td>\n",
       "      <td>Male</td>\n",
       "      <td>No</td>\n",
       "      <td>0</td>\n",
       "      <td>Graduate</td>\n",
       "      <td>No</td>\n",
       "      <td>5849</td>\n",
       "      <td>0.0</td>\n",
       "      <td>146.412162</td>\n",
       "      <td>360.0</td>\n",
       "      <td>1.0</td>\n",
       "      <td>Urban</td>\n",
       "      <td>Y</td>\n",
       "      <td>4.857444</td>\n",
       "      <td>5849.0</td>\n",
       "      <td>8.674026</td>\n",
       "    </tr>\n",
       "    <tr>\n",
       "      <th>1</th>\n",
       "      <td>LP001003</td>\n",
       "      <td>Male</td>\n",
       "      <td>Yes</td>\n",
       "      <td>1</td>\n",
       "      <td>Graduate</td>\n",
       "      <td>No</td>\n",
       "      <td>4583</td>\n",
       "      <td>1508.0</td>\n",
       "      <td>128.000000</td>\n",
       "      <td>360.0</td>\n",
       "      <td>1.0</td>\n",
       "      <td>Rural</td>\n",
       "      <td>N</td>\n",
       "      <td>4.852030</td>\n",
       "      <td>6091.0</td>\n",
       "      <td>8.714568</td>\n",
       "    </tr>\n",
       "    <tr>\n",
       "      <th>2</th>\n",
       "      <td>LP001005</td>\n",
       "      <td>Male</td>\n",
       "      <td>Yes</td>\n",
       "      <td>0</td>\n",
       "      <td>Graduate</td>\n",
       "      <td>Yes</td>\n",
       "      <td>3000</td>\n",
       "      <td>0.0</td>\n",
       "      <td>66.000000</td>\n",
       "      <td>360.0</td>\n",
       "      <td>1.0</td>\n",
       "      <td>Urban</td>\n",
       "      <td>Y</td>\n",
       "      <td>4.189655</td>\n",
       "      <td>3000.0</td>\n",
       "      <td>8.006368</td>\n",
       "    </tr>\n",
       "    <tr>\n",
       "      <th>3</th>\n",
       "      <td>LP001006</td>\n",
       "      <td>Male</td>\n",
       "      <td>Yes</td>\n",
       "      <td>0</td>\n",
       "      <td>Not Graduate</td>\n",
       "      <td>No</td>\n",
       "      <td>2583</td>\n",
       "      <td>2358.0</td>\n",
       "      <td>120.000000</td>\n",
       "      <td>360.0</td>\n",
       "      <td>1.0</td>\n",
       "      <td>Urban</td>\n",
       "      <td>Y</td>\n",
       "      <td>4.787492</td>\n",
       "      <td>4941.0</td>\n",
       "      <td>8.505323</td>\n",
       "    </tr>\n",
       "    <tr>\n",
       "      <th>4</th>\n",
       "      <td>LP001008</td>\n",
       "      <td>Male</td>\n",
       "      <td>No</td>\n",
       "      <td>0</td>\n",
       "      <td>Graduate</td>\n",
       "      <td>No</td>\n",
       "      <td>6000</td>\n",
       "      <td>0.0</td>\n",
       "      <td>141.000000</td>\n",
       "      <td>360.0</td>\n",
       "      <td>1.0</td>\n",
       "      <td>Urban</td>\n",
       "      <td>Y</td>\n",
       "      <td>4.948760</td>\n",
       "      <td>6000.0</td>\n",
       "      <td>8.699515</td>\n",
       "    </tr>\n",
       "  </tbody>\n",
       "</table>\n",
       "</div>"
      ],
      "text/plain": [
       "    Loan_ID Gender Married Dependents     Education Self_Employed  \\\n",
       "0  LP001002   Male      No          0      Graduate            No   \n",
       "1  LP001003   Male     Yes          1      Graduate            No   \n",
       "2  LP001005   Male     Yes          0      Graduate           Yes   \n",
       "3  LP001006   Male     Yes          0  Not Graduate            No   \n",
       "4  LP001008   Male      No          0      Graduate            No   \n",
       "\n",
       "   ApplicantIncome  CoapplicantIncome  LoanAmount  Loan_Amount_Term  \\\n",
       "0             5849                0.0  146.412162             360.0   \n",
       "1             4583             1508.0  128.000000             360.0   \n",
       "2             3000                0.0   66.000000             360.0   \n",
       "3             2583             2358.0  120.000000             360.0   \n",
       "4             6000                0.0  141.000000             360.0   \n",
       "\n",
       "   Credit_History Property_Area Loan_Status  Loanamount_log  TotalIncome  \\\n",
       "0             1.0         Urban           Y        4.857444       5849.0   \n",
       "1             1.0         Rural           N        4.852030       6091.0   \n",
       "2             1.0         Urban           Y        4.189655       3000.0   \n",
       "3             1.0         Urban           Y        4.787492       4941.0   \n",
       "4             1.0         Urban           Y        4.948760       6000.0   \n",
       "\n",
       "   TotalIncome_log  \n",
       "0         8.674026  \n",
       "1         8.714568  \n",
       "2         8.006368  \n",
       "3         8.505323  \n",
       "4         8.699515  "
      ]
     },
     "execution_count": 28,
     "metadata": {},
     "output_type": "execute_result"
    }
   ],
   "source": [
    "#Check for the 5 five rows \n",
    "df.head()"
   ]
  },
  {
   "cell_type": "code",
   "execution_count": 29,
   "id": "11edd3ef-b603-4646-84f5-a8d5d4676543",
   "metadata": {},
   "outputs": [],
   "source": [
    "#divide the dataset for dependend and independed variables \n",
    "x=df.iloc[:,np.r_[1:5,9:11,13:15]].values\n",
    "y=df.iloc[:,12].values"
   ]
  },
  {
   "cell_type": "code",
   "execution_count": 30,
   "id": "e43b06f8-70e1-4387-9862-435ed48eeb41",
   "metadata": {},
   "outputs": [
    {
     "name": "stdout",
     "output_type": "stream",
     "text": [
      "[['Male' 'No' '0' ... 1.0 4.857444178729352 5849.0]\n",
      " ['Male' 'Yes' '1' ... 1.0 4.852030263919617 6091.0]\n",
      " ['Male' 'Yes' '0' ... 1.0 4.189654742026425 3000.0]\n",
      " ...\n",
      " ['Male' 'Yes' '1' ... 1.0 5.53338948872752 8312.0]\n",
      " ['Male' 'Yes' '2' ... 1.0 5.231108616854587 7583.0]\n",
      " ['Female' 'No' '0' ... 0.0 4.890349128221754 4583.0]]\n"
     ]
    }
   ],
   "source": [
    "print(x)"
   ]
  },
  {
   "cell_type": "code",
   "execution_count": 31,
   "id": "4a89cb41-6874-4881-bc52-4557d3608e78",
   "metadata": {},
   "outputs": [],
   "source": [
    "#print the dataset into train and test using train test split \n",
    "from sklearn.model_selection import train_test_split\n",
    "x_train,x_test,y_train,y_test=train_test_split(x,y,test_size=0.2,random_state=42)"
   ]
  },
  {
   "cell_type": "code",
   "execution_count": 32,
   "id": "808c0c76-62cb-4d3f-a8d1-06cf8ac3106e",
   "metadata": {},
   "outputs": [
    {
     "name": "stdout",
     "output_type": "stream",
     "text": [
      "[['Male' 'Yes' '0' ... 1.0 5.579729825986222 8250.0]\n",
      " ['Male' 'Yes' '0' ... 1.0 4.875197323201151 5858.0]\n",
      " ['Male' 'Yes' '2' ... 1.0 5.3471075307174685 7945.0]\n",
      " ...\n",
      " ['Female' 'No' '0' ... 1.0 3.4011973816621555 3237.0]\n",
      " ['Female' 'Yes' '0' ... 1.0 4.857444178729352 10047.0]\n",
      " ['Male' 'Yes' '0' ... 1.0 4.857444178729352 13650.0]]\n"
     ]
    }
   ],
   "source": [
    "#display the x-train\n",
    "print(x_train)"
   ]
  },
  {
   "cell_type": "code",
   "execution_count": 33,
   "id": "4ad52dd8-fb8c-40e6-8049-18d6b6c15b6e",
   "metadata": {},
   "outputs": [],
   "source": [
    "#label encode categorical columns \n",
    "\n",
    "from sklearn.preprocessing import LabelEncoder \n",
    "labelencoder_x= LabelEncoder()\n",
    "for i in range(0, 5):\n",
    "    x_train[:,i]=labelencoder_x.fit_transform(x_train[:,i])\n",
    "\n",
    "x_train[:,7]=labelencoder_x.fit_transform(x_train[:,7])"
   ]
  },
  {
   "cell_type": "code",
   "execution_count": 34,
   "id": "90bc236d-7c88-47fd-b772-590a61887f40",
   "metadata": {},
   "outputs": [
    {
     "data": {
      "text/plain": [
       "array([[1, 1, 0, ..., 1.0, 5.579729825986222, 346],\n",
       "       [1, 1, 0, ..., 1.0, 4.875197323201151, 258],\n",
       "       [1, 1, 2, ..., 1.0, 5.3471075307174685, 341],\n",
       "       ...,\n",
       "       [0, 0, 0, ..., 1.0, 3.4011973816621555, 43],\n",
       "       [0, 1, 0, ..., 1.0, 4.857444178729352, 381],\n",
       "       [1, 1, 0, ..., 1.0, 4.857444178729352, 414]], dtype=object)"
      ]
     },
     "execution_count": 34,
     "metadata": {},
     "output_type": "execute_result"
    }
   ],
   "source": [
    "#check x _train after label encoder \n",
    "x_train"
   ]
  },
  {
   "cell_type": "code",
   "execution_count": 35,
   "id": "6ddc9816-9fe0-425b-ab9b-4aae83c81a39",
   "metadata": {},
   "outputs": [],
   "source": [
    "#lable encode y_train \n",
    "labelencoder_y=LabelEncoder()\n",
    "y_train = labelencoder_y.fit_transform(y_train)"
   ]
  },
  {
   "cell_type": "code",
   "execution_count": 36,
   "id": "f4f0d90b-5488-4a6e-a11b-6eba0b81e61d",
   "metadata": {},
   "outputs": [
    {
     "data": {
      "text/plain": [
       "array([0, 1, 1, 1, 0, 0, 1, 0, 1, 1, 1, 0, 1, 1, 1, 1, 0, 1, 1, 0, 0, 1,\n",
       "       1, 1, 0, 1, 1, 1, 1, 0, 0, 1, 1, 1, 1, 0, 0, 1, 0, 1, 1, 1, 1, 1,\n",
       "       1, 0, 1, 0, 0, 0, 0, 1, 1, 1, 0, 1, 0, 1, 1, 1, 1, 0, 0, 1, 1, 1,\n",
       "       1, 0, 1, 0, 1, 1, 1, 1, 0, 0, 0, 0, 1, 1, 1, 1, 1, 0, 1, 1, 0, 0,\n",
       "       1, 0, 0, 1, 1, 0, 1, 1, 1, 1, 1, 1, 0, 1, 1, 1, 0, 1, 1, 1, 1, 0,\n",
       "       1, 1, 1, 1, 0, 0, 1, 0, 1, 1, 1, 0, 1, 1, 1, 1, 1, 1, 1, 1, 0, 1,\n",
       "       0, 0, 1, 1, 1, 1, 1, 1, 0, 1, 1, 0, 0, 1, 1, 1, 1, 0, 1, 1, 1, 0,\n",
       "       0, 0, 1, 1, 1, 1, 1, 1, 1, 0, 1, 0, 1, 1, 1, 1, 0, 1, 0, 1, 0, 1,\n",
       "       1, 1, 1, 1, 1, 1, 1, 1, 1, 1, 0, 1, 1, 1, 1, 1, 0, 1, 0, 1, 1, 0,\n",
       "       0, 1, 1, 1, 1, 0, 1, 1, 0, 1, 0, 0, 1, 1, 1, 1, 1, 0, 1, 1, 0, 0,\n",
       "       1, 1, 1, 1, 1, 0, 1, 1, 0, 1, 1, 0, 1, 1, 1, 1, 0, 0, 1, 1, 0, 1,\n",
       "       0, 1, 1, 1, 1, 0, 1, 1, 1, 1, 1, 1, 0, 1, 1, 1, 1, 0, 1, 1, 0, 0,\n",
       "       1, 1, 1, 1, 0, 1, 0, 1, 1, 0, 1, 1, 1, 0, 1, 0, 1, 1, 1, 1, 0, 1,\n",
       "       0, 1, 1, 1, 1, 0, 1, 0, 0, 1, 1, 1, 0, 0, 1, 0, 1, 1, 1, 1, 1, 0,\n",
       "       0, 1, 0, 0, 1, 1, 1, 1, 1, 0, 1, 0, 1, 1, 1, 1, 1, 1, 1, 1, 0, 0,\n",
       "       1, 1, 1, 1, 1, 1, 0, 1, 1, 1, 0, 1, 1, 1, 1, 0, 1, 1, 0, 0, 1, 1,\n",
       "       1, 0, 1, 1, 0, 0, 1, 1, 1, 0, 1, 0, 1, 1, 1, 1, 0, 1, 0, 1, 1, 0,\n",
       "       0, 1, 1, 1, 0, 0, 1, 0, 1, 1, 1, 1, 1, 1, 1, 1, 1, 1, 0, 1, 1, 1,\n",
       "       1, 1, 0, 0, 1, 1, 1, 1, 0, 0, 0, 0, 0, 1, 0, 1, 1, 0, 1, 1, 1, 0,\n",
       "       0, 1, 1, 0, 1, 1, 1, 1, 1, 0, 0, 1, 1, 1, 0, 0, 1, 1, 0, 1, 1, 1,\n",
       "       0, 1, 1, 0, 1, 0, 0, 1, 0, 1, 0, 1, 1, 1, 1, 1, 1, 1, 1, 1, 0, 1,\n",
       "       1, 1, 1, 1, 1, 0, 1, 1, 0, 1, 1, 1, 1, 0, 1, 1, 1, 1, 1, 1, 1, 0,\n",
       "       1, 0, 1, 1, 1, 1, 1])"
      ]
     },
     "execution_count": 36,
     "metadata": {},
     "output_type": "execute_result"
    }
   ],
   "source": [
    "#check if the y train have been converted \n",
    "y_train"
   ]
  },
  {
   "cell_type": "code",
   "execution_count": 37,
   "id": "d67cf739-2bfd-4bd0-8208-e7dc6fb1ec4d",
   "metadata": {},
   "outputs": [
    {
     "data": {
      "text/plain": [
       "array([[1, 1, 0, 0, 3, 1.0, 5.429345628954441, 109],\n",
       "       [1, 1, 0, 0, 3, 1.0, 4.867534450455582, 37],\n",
       "       [1, 1, 2, 0, 3, 1.0, 5.062595033026967, 71],\n",
       "       [0, 0, 0, 0, 3, 1.0, 4.2626798770413155, 11],\n",
       "       [1, 0, 0, 0, 3, 1.0, 4.248495242049359, 7],\n",
       "       [1, 1, 1, 0, 3, 1.0, 4.672828834461906, 33],\n",
       "       [1, 1, 2, 0, 3, 1.0, 4.787491742782046, 24],\n",
       "       [1, 1, 0, 0, 3, 1.0, 4.189654742026425, 13],\n",
       "       [1, 1, 3, 1, 3, 1.0, 5.153291594497779, 36],\n",
       "       [1, 1, 1, 0, 3, 1.0, 4.700480365792417, 34],\n",
       "       [1, 1, 2, 0, 3, 0.0, 4.276666119016055, 57],\n",
       "       [1, 1, 0, 0, 3, 1.0, 5.030437921392435, 62],\n",
       "       [1, 1, 3, 1, 4, 1.0, 4.543294782270004, 10],\n",
       "       [1, 1, 2, 1, 3, 1.0, 4.857444178729352, 61],\n",
       "       [1, 1, 2, 0, 3, 1.0, 4.477336814478207, 94],\n",
       "       [1, 1, 0, 0, 2, 1.0, 4.553876891600541, 80],\n",
       "       [1, 0, 0, 0, 3, 1.0, 4.07753744390572, 4],\n",
       "       [1, 0, 0, 0, 3, 1.0, 5.017279836814924, 107],\n",
       "       [1, 1, 1, 0, 3, 1.0, 4.941642422609304, 55],\n",
       "       [1, 1, 0, 0, 1, 1.0, 4.290459441148391, 45],\n",
       "       [1, 1, 0, 0, 3, 1.0, 4.857444178729352, 16],\n",
       "       [1, 1, 2, 0, 3, 1.0, 5.4638318050256105, 108],\n",
       "       [1, 1, 0, 0, 4, 1.0, 5.062595033026967, 52],\n",
       "       [1, 1, 1, 0, 3, 1.0, 5.298317366548036, 95],\n",
       "       [0, 0, 1, 0, 3, 1.0, 3.6888794541139363, 115],\n",
       "       [1, 0, 0, 0, 3, 1.0, 5.231108616854587, 114],\n",
       "       [1, 1, 1, 1, 3, 1.0, 4.875197323201151, 40],\n",
       "       [1, 0, 0, 0, 3, 1.0, 4.844187086458591, 18],\n",
       "       [0, 0, 0, 0, 1, 1.0, 4.7535901911063645, 26],\n",
       "       [1, 1, 3, 0, 1, 1.0, 3.6888794541139363, 35],\n",
       "       [1, 1, 2, 0, 3, 1.0, 4.248495242049359, 30],\n",
       "       [0, 1, 0, 0, 3, 1.0, 4.605170185988092, 94],\n",
       "       [1, 1, 0, 1, 3, 1.0, 4.653960350157523, 46],\n",
       "       [1, 0, 0, 0, 3, 1.0, 4.700480365792417, 76],\n",
       "       [0, 0, 0, 0, 3, 1.0, 5.41610040220442, 112],\n",
       "       [1, 1, 0, 1, 3, 0.0, 5.384495062789089, 81],\n",
       "       [1, 1, 0, 0, 3, 1.0, 5.153291594497779, 83],\n",
       "       [1, 1, 3, 0, 3, 1.0, 4.852030263919617, 73],\n",
       "       [1, 1, 2, 0, 3, 1.0, 4.574710978503383, 29],\n",
       "       [0, 1, 2, 0, 3, 1.0, 5.117993812416755, 15],\n",
       "       [1, 0, 0, 0, 3, 1.0, 4.912654885736052, 65],\n",
       "       [1, 1, 1, 1, 3, 1.0, 4.852030263919617, 53],\n",
       "       [1, 1, 1, 0, 3, 1.0, 5.043425116919247, 110],\n",
       "       [1, 1, 0, 0, 3, 1.0, 4.700480365792417, 54],\n",
       "       [1, 0, 0, 0, 3, 1.0, 4.30406509320417, 32],\n",
       "       [1, 1, 2, 1, 3, 1.0, 4.820281565605037, 31],\n",
       "       [1, 1, 1, 0, 3, 1.0, 5.303304908059076, 101],\n",
       "       [1, 1, 0, 0, 3, 0.0, 4.6443908991413725, 63],\n",
       "       [1, 1, 0, 0, 3, 0.0, 5.003946305945459, 72],\n",
       "       [0, 0, 0, 0, 3, 0.0, 4.634728988229636, 57],\n",
       "       [1, 0, 1, 1, 3, 1.0, 5.247024072160486, 38],\n",
       "       [0, 0, 0, 0, 3, 1.0, 5.365976015021851, 110],\n",
       "       [1, 1, 0, 1, 3, 0.0, 4.532599493153256, 50],\n",
       "       [0, 0, 0, 1, 3, 1.0, 4.553876891600541, 17],\n",
       "       [1, 1, 0, 0, 3, 1.0, 5.147494476813453, 82],\n",
       "       [1, 1, 2, 1, 3, 1.0, 4.727387818712341, 0],\n",
       "       [1, 0, 0, 0, 3, 1.0, 5.170483995038151, 106],\n",
       "       [1, 1, 1, 0, 3, 1.0, 5.480638923341991, 103],\n",
       "       [1, 1, 1, 0, 3, 0.0, 4.983606621708336, 47],\n",
       "       [1, 1, 2, 0, 3, 1.0, 5.3230099791384085, 88],\n",
       "       [1, 1, 3, 0, 1, 0.0, 6.396929655216146, 118],\n",
       "       [1, 1, 1, 0, 3, 1.0, 5.017279836814924, 91],\n",
       "       [1, 1, 2, 0, 3, 0.0, 4.857444178729352, 90],\n",
       "       [0, 1, 0, 1, 3, 1.0, 4.927253685157205, 99],\n",
       "       [1, 1, 2, 0, 3, 1.0, 4.727387818712341, 42],\n",
       "       [0, 0, 0, 0, 3, 1.0, 5.049856007249537, 78],\n",
       "       [0, 0, 2, 0, 3, 1.0, 4.787491742782046, 75],\n",
       "       [1, 1, 1, 0, 3, 1.0, 4.454347296253507, 116],\n",
       "       [1, 1, 3, 0, 3, 1.0, 4.543294782270004, 64],\n",
       "       [1, 1, 0, 1, 3, 1.0, 5.075173815233827, 79],\n",
       "       [0, 0, 0, 1, 3, 0.0, 4.382026634673881, 8],\n",
       "       [1, 1, 0, 0, 3, 1.0, 4.382026634673881, 41],\n",
       "       [1, 1, 0, 1, 3, 1.0, 4.465908118654584, 59],\n",
       "       [1, 1, 2, 0, 3, 1.0, 5.220355825078324, 98],\n",
       "       [1, 1, 3, 0, 2, 0.0, 5.19295685089021, 100],\n",
       "       [1, 1, 1, 0, 3, 1.0, 4.857444178729352, 2],\n",
       "       [1, 1, 2, 0, 3, 1.0, 5.493061443340548, 104],\n",
       "       [1, 1, 1, 0, 3, 0.0, 4.857444178729352, 56],\n",
       "       [0, 0, 0, 0, 3, 0.0, 4.2626798770413155, 14],\n",
       "       [1, 0, 0, 0, 2, 1.0, 4.394449154672439, 19],\n",
       "       [1, 1, 0, 0, 3, 1.0, 4.700480365792417, 93],\n",
       "       [1, 1, 2, 0, 0, 1.0, 4.68213122712422, 21],\n",
       "       [1, 1, 3, 0, 3, 1.0, 5.0106352940962555, 86],\n",
       "       [0, 0, 0, 0, 3, 1.0, 2.1972245773362196, 1],\n",
       "       [1, 1, 0, 0, 3, 1.0, 5.075173815233827, 43],\n",
       "       [1, 1, 0, 0, 3, 1.0, 5.214935757608986, 105],\n",
       "       [1, 1, 1, 0, 3, 1.0, 5.225746673713202, 60],\n",
       "       [1, 1, 2, 0, 3, 0.0, 4.663439094112067, 9],\n",
       "       [1, 1, 0, 1, 3, 1.0, 4.553876891600541, 28],\n",
       "       [1, 1, 0, 0, 3, 1.0, 4.857444178729352, 117],\n",
       "       [1, 1, 3, 0, 3, 1.0, 5.66988092298052, 113],\n",
       "       [1, 0, 0, 0, 3, 0.0, 4.653960350157523, 87],\n",
       "       [1, 1, 0, 1, 3, 0.0, 5.303304908059076, 69],\n",
       "       [1, 1, 1, 0, 3, 1.0, 5.1647859739235145, 85],\n",
       "       [1, 1, 0, 0, 3, 1.0, 5.087596335232384, 89],\n",
       "       [1, 1, 2, 0, 3, 1.0, 4.61512051684126, 22],\n",
       "       [0, 0, 0, 0, 3, 1.0, 4.532599493153256, 5],\n",
       "       [1, 1, 2, 1, 3, 1.0, 4.59511985013459, 66],\n",
       "       [1, 0, 0, 0, 3, 1.0, 4.204692619390966, 97],\n",
       "       [1, 0, 0, 0, 3, 1.0, 4.787491742782046, 58],\n",
       "       [1, 1, 0, 0, 3, 1.0, 4.718498871295094, 49],\n",
       "       [1, 1, 1, 0, 3, 1.0, 4.74493212836325, 44],\n",
       "       [1, 0, 0, 1, 3, 1.0, 4.700480365792417, 27],\n",
       "       [1, 1, 0, 0, 3, 1.0, 5.123963979403259, 77],\n",
       "       [1, 1, 1, 0, 3, 1.0, 5.799092654460526, 111],\n",
       "       [1, 1, 2, 1, 3, 0.0, 4.8283137373023015, 20],\n",
       "       [1, 1, 0, 0, 3, 1.0, 4.795790545596741, 96],\n",
       "       [1, 1, 3, 1, 3, 0.0, 4.553876891600541, 51],\n",
       "       [1, 0, 0, 1, 3, 1.0, 4.700480365792417, 67],\n",
       "       [0, 0, 0, 0, 3, 1.0, 4.0943445622221, 12],\n",
       "       [0, 0, 1, 0, 3, 1.0, 4.718498871295094, 25],\n",
       "       [1, 0, 0, 1, 1, 0.0, 4.836281906951478, 68],\n",
       "       [1, 1, 0, 0, 3, 1.0, 4.787491742782046, 74],\n",
       "       [1, 1, 1, 0, 3, 1.0, 5.135798437050262, 92],\n",
       "       [1, 1, 0, 0, 3, 1.0, 4.31748811353631, 3],\n",
       "       [1, 0, 0, 1, 3, 1.0, 4.6913478822291435, 70],\n",
       "       [1, 1, 0, 0, 3, 1.0, 4.787491742782046, 84],\n",
       "       [1, 1, 0, 0, 3, 1.0, 5.1647859739235145, 102],\n",
       "       [1, 1, 0, 0, 1, 1.0, 3.7376696182833684, 23],\n",
       "       [0, 0, 0, 0, 3, 1.0, 4.02535169073515, 6],\n",
       "       [1, 1, 1, 0, 4, 1.0, 4.812184355372417, 48],\n",
       "       [1, 1, 2, 0, 3, 1.0, 4.6913478822291435, 39],\n",
       "       [1, 1, 0, 0, 1, 1.0, 6.194405391104672, 119]], dtype=object)"
      ]
     },
     "execution_count": 37,
     "metadata": {},
     "output_type": "execute_result"
    }
   ],
   "source": [
    "#label encode x_test\n",
    "for i in range(0, 5):\n",
    "    x_test[:,i]=labelencoder_x.fit_transform(x_test[:,i])\n",
    "\n",
    "x_test[:,7]=labelencoder_x.fit_transform(x_test[:,7])\n",
    "x_test"
   ]
  },
  {
   "cell_type": "code",
   "execution_count": 38,
   "id": "b7fb15e8-44bc-447e-948b-ed2eac036993",
   "metadata": {},
   "outputs": [
    {
     "data": {
      "text/plain": [
       "array([1, 1, 1, 1, 1, 1, 1, 1, 0, 0, 0, 1, 1, 1, 1, 1, 1, 1, 1, 1, 1, 1,\n",
       "       1, 1, 1, 1, 1, 0, 1, 1, 1, 1, 1, 1, 0, 0, 0, 1, 1, 0, 1, 1, 0, 1,\n",
       "       1, 1, 0, 0, 0, 0, 0, 0, 0, 0, 1, 0, 0, 1, 0, 1, 1, 0, 0, 1, 1, 1,\n",
       "       1, 1, 0, 0, 0, 1, 0, 0, 0, 1, 1, 0, 0, 1, 0, 1, 0, 0, 1, 1, 1, 0,\n",
       "       1, 0, 0, 0, 0, 1, 1, 1, 1, 1, 0, 1, 1, 1, 1, 1, 1, 0, 1, 0, 1, 1,\n",
       "       1, 0, 1, 1, 1, 1, 1, 0, 1, 1, 1, 1, 1])"
      ]
     },
     "execution_count": 38,
     "metadata": {},
     "output_type": "execute_result"
    }
   ],
   "source": [
    "#label encode y_test\n",
    "labelencoder_y=LabelEncoder()\n",
    "y_test = labelencoder_y.fit_transform(y_test)\n",
    "y_test"
   ]
  },
  {
   "cell_type": "code",
   "execution_count": 39,
   "id": "5002e841-a324-46f5-b00d-398f66963f8a",
   "metadata": {},
   "outputs": [],
   "source": [
    "#scaling the numerical features using standard scaler \n",
    "from sklearn.preprocessing import StandardScaler \n",
    "ss=StandardScaler()\n",
    "x_train=ss.fit_transform(x_train)\n",
    "x_test=ss.fit_transform(x_test)\n"
   ]
  },
  {
   "cell_type": "code",
   "execution_count": 40,
   "id": "57d4ab87-f39a-4a9f-8428-4fe0c5c09d5f",
   "metadata": {},
   "outputs": [
    {
     "data": {
      "text/html": [
       "<style>#sk-container-id-1 {color: black;}#sk-container-id-1 pre{padding: 0;}#sk-container-id-1 div.sk-toggleable {background-color: white;}#sk-container-id-1 label.sk-toggleable__label {cursor: pointer;display: block;width: 100%;margin-bottom: 0;padding: 0.3em;box-sizing: border-box;text-align: center;}#sk-container-id-1 label.sk-toggleable__label-arrow:before {content: \"▸\";float: left;margin-right: 0.25em;color: #696969;}#sk-container-id-1 label.sk-toggleable__label-arrow:hover:before {color: black;}#sk-container-id-1 div.sk-estimator:hover label.sk-toggleable__label-arrow:before {color: black;}#sk-container-id-1 div.sk-toggleable__content {max-height: 0;max-width: 0;overflow: hidden;text-align: left;background-color: #f0f8ff;}#sk-container-id-1 div.sk-toggleable__content pre {margin: 0.2em;color: black;border-radius: 0.25em;background-color: #f0f8ff;}#sk-container-id-1 input.sk-toggleable__control:checked~div.sk-toggleable__content {max-height: 200px;max-width: 100%;overflow: auto;}#sk-container-id-1 input.sk-toggleable__control:checked~label.sk-toggleable__label-arrow:before {content: \"▾\";}#sk-container-id-1 div.sk-estimator input.sk-toggleable__control:checked~label.sk-toggleable__label {background-color: #d4ebff;}#sk-container-id-1 div.sk-label input.sk-toggleable__control:checked~label.sk-toggleable__label {background-color: #d4ebff;}#sk-container-id-1 input.sk-hidden--visually {border: 0;clip: rect(1px 1px 1px 1px);clip: rect(1px, 1px, 1px, 1px);height: 1px;margin: -1px;overflow: hidden;padding: 0;position: absolute;width: 1px;}#sk-container-id-1 div.sk-estimator {font-family: monospace;background-color: #f0f8ff;border: 1px dotted black;border-radius: 0.25em;box-sizing: border-box;margin-bottom: 0.5em;}#sk-container-id-1 div.sk-estimator:hover {background-color: #d4ebff;}#sk-container-id-1 div.sk-parallel-item::after {content: \"\";width: 100%;border-bottom: 1px solid gray;flex-grow: 1;}#sk-container-id-1 div.sk-label:hover label.sk-toggleable__label {background-color: #d4ebff;}#sk-container-id-1 div.sk-serial::before {content: \"\";position: absolute;border-left: 1px solid gray;box-sizing: border-box;top: 0;bottom: 0;left: 50%;z-index: 0;}#sk-container-id-1 div.sk-serial {display: flex;flex-direction: column;align-items: center;background-color: white;padding-right: 0.2em;padding-left: 0.2em;position: relative;}#sk-container-id-1 div.sk-item {position: relative;z-index: 1;}#sk-container-id-1 div.sk-parallel {display: flex;align-items: stretch;justify-content: center;background-color: white;position: relative;}#sk-container-id-1 div.sk-item::before, #sk-container-id-1 div.sk-parallel-item::before {content: \"\";position: absolute;border-left: 1px solid gray;box-sizing: border-box;top: 0;bottom: 0;left: 50%;z-index: -1;}#sk-container-id-1 div.sk-parallel-item {display: flex;flex-direction: column;z-index: 1;position: relative;background-color: white;}#sk-container-id-1 div.sk-parallel-item:first-child::after {align-self: flex-end;width: 50%;}#sk-container-id-1 div.sk-parallel-item:last-child::after {align-self: flex-start;width: 50%;}#sk-container-id-1 div.sk-parallel-item:only-child::after {width: 0;}#sk-container-id-1 div.sk-dashed-wrapped {border: 1px dashed gray;margin: 0 0.4em 0.5em 0.4em;box-sizing: border-box;padding-bottom: 0.4em;background-color: white;}#sk-container-id-1 div.sk-label label {font-family: monospace;font-weight: bold;display: inline-block;line-height: 1.2em;}#sk-container-id-1 div.sk-label-container {text-align: center;}#sk-container-id-1 div.sk-container {/* jupyter's `normalize.less` sets `[hidden] { display: none; }` but bootstrap.min.css set `[hidden] { display: none !important; }` so we also need the `!important` here to be able to override the default hidden behavior on the sphinx rendered scikit-learn.org. See: https://github.com/scikit-learn/scikit-learn/issues/21755 */display: inline-block !important;position: relative;}#sk-container-id-1 div.sk-text-repr-fallback {display: none;}</style><div id=\"sk-container-id-1\" class=\"sk-top-container\"><div class=\"sk-text-repr-fallback\"><pre>DecisionTreeClassifier(criterion=&#x27;entropy&#x27;, random_state=0)</pre><b>In a Jupyter environment, please rerun this cell to show the HTML representation or trust the notebook. <br />On GitHub, the HTML representation is unable to render, please try loading this page with nbviewer.org.</b></div><div class=\"sk-container\" hidden><div class=\"sk-item\"><div class=\"sk-estimator sk-toggleable\"><input class=\"sk-toggleable__control sk-hidden--visually\" id=\"sk-estimator-id-1\" type=\"checkbox\" checked><label for=\"sk-estimator-id-1\" class=\"sk-toggleable__label sk-toggleable__label-arrow\">DecisionTreeClassifier</label><div class=\"sk-toggleable__content\"><pre>DecisionTreeClassifier(criterion=&#x27;entropy&#x27;, random_state=0)</pre></div></div></div></div></div>"
      ],
      "text/plain": [
       "DecisionTreeClassifier(criterion='entropy', random_state=0)"
      ]
     },
     "execution_count": 40,
     "metadata": {},
     "output_type": "execute_result"
    }
   ],
   "source": [
    "#make prediction using DecisionTree Classifier \n",
    "from sklearn.tree import DecisionTreeClassifier \n",
    "DTC=DecisionTreeClassifier(criterion='entropy',random_state=0)\n",
    "DTC.fit(x_train,y_train)"
   ]
  },
  {
   "cell_type": "code",
   "execution_count": 41,
   "id": "2e743592-32ae-45ef-a87d-a3e82f254537",
   "metadata": {},
   "outputs": [
    {
     "data": {
      "text/plain": [
       "array([1, 1, 1, 1, 1, 1, 1, 1, 1, 0, 0, 1, 0, 1, 1, 0, 1, 0, 1, 1, 0, 1,\n",
       "       0, 1, 1, 0, 0, 0, 1, 1, 1, 1, 1, 1, 1, 0, 1, 1, 1, 0, 1, 1, 1, 1,\n",
       "       1, 0, 1, 0, 0, 0, 1, 1, 1, 1, 1, 0, 1, 0, 0, 1, 0, 1, 0, 1, 1, 1,\n",
       "       1, 0, 1, 1, 0, 1, 1, 1, 0, 0, 1, 0, 0, 0, 0, 1, 1, 1, 1, 1, 1, 0,\n",
       "       1, 0, 1, 0, 0, 1, 1, 1, 1, 1, 0, 1, 0, 1, 1, 1, 1, 0, 0, 1, 1, 1,\n",
       "       1, 0, 0, 1, 0, 1, 1, 1, 1, 1, 0, 1, 1])"
      ]
     },
     "execution_count": 41,
     "metadata": {},
     "output_type": "execute_result"
    }
   ],
   "source": [
    "#make the prediction \n",
    "y_pred= DTC.predict(x_test)\n",
    "y_pred"
   ]
  },
  {
   "cell_type": "code",
   "execution_count": 42,
   "id": "3db02c60-ac56-45a3-b95f-0e791f3474ad",
   "metadata": {},
   "outputs": [
    {
     "name": "stdout",
     "output_type": "stream",
     "text": [
      "The acccuracy of the decision tree is: 0.6910569105691057\n"
     ]
    }
   ],
   "source": [
    "#evalute the resuts by finding the accuracy \n",
    "from sklearn import metrics \n",
    "print('The acccuracy of the decision tree is:', metrics.accuracy_score(y_pred,y_test))"
   ]
  },
  {
   "cell_type": "markdown",
   "id": "044ca3f6-b4ba-4a27-8a3a-6698c5b43c77",
   "metadata": {},
   "source": [
    "The accuracy is very low hence we will go ahead and look for another model Rnadom Forest "
   ]
  },
  {
   "cell_type": "code",
   "execution_count": 89,
   "id": "ab44efa1-fb62-448d-8922-416f639c5b26",
   "metadata": {},
   "outputs": [
    {
     "data": {
      "text/html": [
       "<style>#sk-container-id-3 {color: black;}#sk-container-id-3 pre{padding: 0;}#sk-container-id-3 div.sk-toggleable {background-color: white;}#sk-container-id-3 label.sk-toggleable__label {cursor: pointer;display: block;width: 100%;margin-bottom: 0;padding: 0.3em;box-sizing: border-box;text-align: center;}#sk-container-id-3 label.sk-toggleable__label-arrow:before {content: \"▸\";float: left;margin-right: 0.25em;color: #696969;}#sk-container-id-3 label.sk-toggleable__label-arrow:hover:before {color: black;}#sk-container-id-3 div.sk-estimator:hover label.sk-toggleable__label-arrow:before {color: black;}#sk-container-id-3 div.sk-toggleable__content {max-height: 0;max-width: 0;overflow: hidden;text-align: left;background-color: #f0f8ff;}#sk-container-id-3 div.sk-toggleable__content pre {margin: 0.2em;color: black;border-radius: 0.25em;background-color: #f0f8ff;}#sk-container-id-3 input.sk-toggleable__control:checked~div.sk-toggleable__content {max-height: 200px;max-width: 100%;overflow: auto;}#sk-container-id-3 input.sk-toggleable__control:checked~label.sk-toggleable__label-arrow:before {content: \"▾\";}#sk-container-id-3 div.sk-estimator input.sk-toggleable__control:checked~label.sk-toggleable__label {background-color: #d4ebff;}#sk-container-id-3 div.sk-label input.sk-toggleable__control:checked~label.sk-toggleable__label {background-color: #d4ebff;}#sk-container-id-3 input.sk-hidden--visually {border: 0;clip: rect(1px 1px 1px 1px);clip: rect(1px, 1px, 1px, 1px);height: 1px;margin: -1px;overflow: hidden;padding: 0;position: absolute;width: 1px;}#sk-container-id-3 div.sk-estimator {font-family: monospace;background-color: #f0f8ff;border: 1px dotted black;border-radius: 0.25em;box-sizing: border-box;margin-bottom: 0.5em;}#sk-container-id-3 div.sk-estimator:hover {background-color: #d4ebff;}#sk-container-id-3 div.sk-parallel-item::after {content: \"\";width: 100%;border-bottom: 1px solid gray;flex-grow: 1;}#sk-container-id-3 div.sk-label:hover label.sk-toggleable__label {background-color: #d4ebff;}#sk-container-id-3 div.sk-serial::before {content: \"\";position: absolute;border-left: 1px solid gray;box-sizing: border-box;top: 0;bottom: 0;left: 50%;z-index: 0;}#sk-container-id-3 div.sk-serial {display: flex;flex-direction: column;align-items: center;background-color: white;padding-right: 0.2em;padding-left: 0.2em;position: relative;}#sk-container-id-3 div.sk-item {position: relative;z-index: 1;}#sk-container-id-3 div.sk-parallel {display: flex;align-items: stretch;justify-content: center;background-color: white;position: relative;}#sk-container-id-3 div.sk-item::before, #sk-container-id-3 div.sk-parallel-item::before {content: \"\";position: absolute;border-left: 1px solid gray;box-sizing: border-box;top: 0;bottom: 0;left: 50%;z-index: -1;}#sk-container-id-3 div.sk-parallel-item {display: flex;flex-direction: column;z-index: 1;position: relative;background-color: white;}#sk-container-id-3 div.sk-parallel-item:first-child::after {align-self: flex-end;width: 50%;}#sk-container-id-3 div.sk-parallel-item:last-child::after {align-self: flex-start;width: 50%;}#sk-container-id-3 div.sk-parallel-item:only-child::after {width: 0;}#sk-container-id-3 div.sk-dashed-wrapped {border: 1px dashed gray;margin: 0 0.4em 0.5em 0.4em;box-sizing: border-box;padding-bottom: 0.4em;background-color: white;}#sk-container-id-3 div.sk-label label {font-family: monospace;font-weight: bold;display: inline-block;line-height: 1.2em;}#sk-container-id-3 div.sk-label-container {text-align: center;}#sk-container-id-3 div.sk-container {/* jupyter's `normalize.less` sets `[hidden] { display: none; }` but bootstrap.min.css set `[hidden] { display: none !important; }` so we also need the `!important` here to be able to override the default hidden behavior on the sphinx rendered scikit-learn.org. See: https://github.com/scikit-learn/scikit-learn/issues/21755 */display: inline-block !important;position: relative;}#sk-container-id-3 div.sk-text-repr-fallback {display: none;}</style><div id=\"sk-container-id-3\" class=\"sk-top-container\"><div class=\"sk-text-repr-fallback\"><pre>RandomForestClassifier(criterion=&#x27;entropy&#x27;, random_state=0)</pre><b>In a Jupyter environment, please rerun this cell to show the HTML representation or trust the notebook. <br />On GitHub, the HTML representation is unable to render, please try loading this page with nbviewer.org.</b></div><div class=\"sk-container\" hidden><div class=\"sk-item\"><div class=\"sk-estimator sk-toggleable\"><input class=\"sk-toggleable__control sk-hidden--visually\" id=\"sk-estimator-id-3\" type=\"checkbox\" checked><label for=\"sk-estimator-id-3\" class=\"sk-toggleable__label sk-toggleable__label-arrow\">RandomForestClassifier</label><div class=\"sk-toggleable__content\"><pre>RandomForestClassifier(criterion=&#x27;entropy&#x27;, random_state=0)</pre></div></div></div></div></div>"
      ],
      "text/plain": [
       "RandomForestClassifier(criterion='entropy', random_state=0)"
      ]
     },
     "execution_count": 89,
     "metadata": {},
     "output_type": "execute_result"
    }
   ],
   "source": [
    "#make prediction using Random Forest Classifier \n",
    "from sklearn.ensemble import RandomForestClassifier\n",
    "RFC=RandomForestClassifier(criterion='entropy',random_state=0)\n",
    "RFC.fit(x_train,y_train)"
   ]
  },
  {
   "cell_type": "code",
   "execution_count": 91,
   "id": "2fe54dc6-f63e-4d3e-8a49-203a96fc282f",
   "metadata": {},
   "outputs": [
    {
     "data": {
      "text/plain": [
       "array([1, 1, 1, 1, 0, 1, 1, 1, 1, 1, 0, 1, 1, 1, 1, 1, 1, 1, 1, 1, 1, 1,\n",
       "       0, 1, 1, 1, 1, 1, 1, 1, 1, 0, 1, 1, 1, 0, 1, 1, 1, 1, 1, 1, 1, 1,\n",
       "       1, 1, 1, 0, 0, 0, 1, 1, 0, 1, 1, 1, 1, 1, 0, 1, 0, 1, 0, 1, 1, 1,\n",
       "       1, 1, 1, 1, 0, 1, 1, 1, 0, 0, 1, 0, 0, 0, 1, 1, 1, 0, 1, 1, 1, 0,\n",
       "       1, 1, 1, 0, 0, 1, 1, 1, 1, 1, 1, 1, 1, 1, 1, 1, 1, 0, 1, 0, 1, 1,\n",
       "       1, 0, 1, 1, 0, 1, 1, 1, 1, 1, 0, 1, 1])"
      ]
     },
     "execution_count": 91,
     "metadata": {},
     "output_type": "execute_result"
    }
   ],
   "source": [
    "#make the prediction \n",
    "y_pred= RFC.predict(x_test)\n",
    "y_pred"
   ]
  },
  {
   "cell_type": "code",
   "execution_count": 93,
   "id": "db6f935c-98bf-4aad-a7a2-f3e13b67b5e4",
   "metadata": {},
   "outputs": [
    {
     "name": "stdout",
     "output_type": "stream",
     "text": [
      "The acccuracy of the Random Forest  is: 0.7398373983739838\n"
     ]
    }
   ],
   "source": [
    "print('The acccuracy of the Random Forest  is:', metrics.accuracy_score(y_pred,y_test))"
   ]
  },
  {
   "cell_type": "code",
   "execution_count": 44,
   "id": "332aff45-3c40-4c3e-986c-91d3dc6695c2",
   "metadata": {},
   "outputs": [
    {
     "data": {
      "text/html": [
       "<style>#sk-container-id-2 {color: black;}#sk-container-id-2 pre{padding: 0;}#sk-container-id-2 div.sk-toggleable {background-color: white;}#sk-container-id-2 label.sk-toggleable__label {cursor: pointer;display: block;width: 100%;margin-bottom: 0;padding: 0.3em;box-sizing: border-box;text-align: center;}#sk-container-id-2 label.sk-toggleable__label-arrow:before {content: \"▸\";float: left;margin-right: 0.25em;color: #696969;}#sk-container-id-2 label.sk-toggleable__label-arrow:hover:before {color: black;}#sk-container-id-2 div.sk-estimator:hover label.sk-toggleable__label-arrow:before {color: black;}#sk-container-id-2 div.sk-toggleable__content {max-height: 0;max-width: 0;overflow: hidden;text-align: left;background-color: #f0f8ff;}#sk-container-id-2 div.sk-toggleable__content pre {margin: 0.2em;color: black;border-radius: 0.25em;background-color: #f0f8ff;}#sk-container-id-2 input.sk-toggleable__control:checked~div.sk-toggleable__content {max-height: 200px;max-width: 100%;overflow: auto;}#sk-container-id-2 input.sk-toggleable__control:checked~label.sk-toggleable__label-arrow:before {content: \"▾\";}#sk-container-id-2 div.sk-estimator input.sk-toggleable__control:checked~label.sk-toggleable__label {background-color: #d4ebff;}#sk-container-id-2 div.sk-label input.sk-toggleable__control:checked~label.sk-toggleable__label {background-color: #d4ebff;}#sk-container-id-2 input.sk-hidden--visually {border: 0;clip: rect(1px 1px 1px 1px);clip: rect(1px, 1px, 1px, 1px);height: 1px;margin: -1px;overflow: hidden;padding: 0;position: absolute;width: 1px;}#sk-container-id-2 div.sk-estimator {font-family: monospace;background-color: #f0f8ff;border: 1px dotted black;border-radius: 0.25em;box-sizing: border-box;margin-bottom: 0.5em;}#sk-container-id-2 div.sk-estimator:hover {background-color: #d4ebff;}#sk-container-id-2 div.sk-parallel-item::after {content: \"\";width: 100%;border-bottom: 1px solid gray;flex-grow: 1;}#sk-container-id-2 div.sk-label:hover label.sk-toggleable__label {background-color: #d4ebff;}#sk-container-id-2 div.sk-serial::before {content: \"\";position: absolute;border-left: 1px solid gray;box-sizing: border-box;top: 0;bottom: 0;left: 50%;z-index: 0;}#sk-container-id-2 div.sk-serial {display: flex;flex-direction: column;align-items: center;background-color: white;padding-right: 0.2em;padding-left: 0.2em;position: relative;}#sk-container-id-2 div.sk-item {position: relative;z-index: 1;}#sk-container-id-2 div.sk-parallel {display: flex;align-items: stretch;justify-content: center;background-color: white;position: relative;}#sk-container-id-2 div.sk-item::before, #sk-container-id-2 div.sk-parallel-item::before {content: \"\";position: absolute;border-left: 1px solid gray;box-sizing: border-box;top: 0;bottom: 0;left: 50%;z-index: -1;}#sk-container-id-2 div.sk-parallel-item {display: flex;flex-direction: column;z-index: 1;position: relative;background-color: white;}#sk-container-id-2 div.sk-parallel-item:first-child::after {align-self: flex-end;width: 50%;}#sk-container-id-2 div.sk-parallel-item:last-child::after {align-self: flex-start;width: 50%;}#sk-container-id-2 div.sk-parallel-item:only-child::after {width: 0;}#sk-container-id-2 div.sk-dashed-wrapped {border: 1px dashed gray;margin: 0 0.4em 0.5em 0.4em;box-sizing: border-box;padding-bottom: 0.4em;background-color: white;}#sk-container-id-2 div.sk-label label {font-family: monospace;font-weight: bold;display: inline-block;line-height: 1.2em;}#sk-container-id-2 div.sk-label-container {text-align: center;}#sk-container-id-2 div.sk-container {/* jupyter's `normalize.less` sets `[hidden] { display: none; }` but bootstrap.min.css set `[hidden] { display: none !important; }` so we also need the `!important` here to be able to override the default hidden behavior on the sphinx rendered scikit-learn.org. See: https://github.com/scikit-learn/scikit-learn/issues/21755 */display: inline-block !important;position: relative;}#sk-container-id-2 div.sk-text-repr-fallback {display: none;}</style><div id=\"sk-container-id-2\" class=\"sk-top-container\"><div class=\"sk-text-repr-fallback\"><pre>GaussianNB()</pre><b>In a Jupyter environment, please rerun this cell to show the HTML representation or trust the notebook. <br />On GitHub, the HTML representation is unable to render, please try loading this page with nbviewer.org.</b></div><div class=\"sk-container\" hidden><div class=\"sk-item\"><div class=\"sk-estimator sk-toggleable\"><input class=\"sk-toggleable__control sk-hidden--visually\" id=\"sk-estimator-id-2\" type=\"checkbox\" checked><label for=\"sk-estimator-id-2\" class=\"sk-toggleable__label sk-toggleable__label-arrow\">GaussianNB</label><div class=\"sk-toggleable__content\"><pre>GaussianNB()</pre></div></div></div></div></div>"
      ],
      "text/plain": [
       "GaussianNB()"
      ]
     },
     "execution_count": 44,
     "metadata": {},
     "output_type": "execute_result"
    }
   ],
   "source": [
    "from sklearn.naive_bayes import GaussianNB\n",
    "GNB=GaussianNB()\n",
    "GNB.fit(x_train,y_train)"
   ]
  },
  {
   "cell_type": "code",
   "execution_count": 45,
   "id": "66145cf0-a408-49ad-a082-2e83cd8aa853",
   "metadata": {},
   "outputs": [
    {
     "data": {
      "text/plain": [
       "array([1, 1, 1, 1, 1, 1, 1, 1, 1, 1, 0, 1, 1, 1, 1, 1, 1, 1, 1, 1, 1, 1,\n",
       "       1, 1, 1, 1, 1, 1, 1, 1, 1, 1, 1, 1, 1, 0, 1, 1, 1, 1, 1, 1, 1, 1,\n",
       "       1, 1, 1, 0, 0, 0, 1, 1, 0, 1, 1, 1, 1, 1, 0, 1, 0, 1, 0, 1, 1, 1,\n",
       "       1, 1, 1, 1, 0, 1, 1, 1, 0, 1, 1, 0, 0, 1, 1, 0, 1, 1, 1, 1, 1, 0,\n",
       "       1, 1, 1, 0, 0, 1, 1, 1, 1, 1, 1, 1, 1, 1, 1, 1, 1, 0, 1, 0, 1, 1,\n",
       "       1, 0, 1, 1, 1, 1, 1, 1, 1, 1, 1, 1, 1])"
      ]
     },
     "execution_count": 45,
     "metadata": {},
     "output_type": "execute_result"
    }
   ],
   "source": [
    "#lets make the prediction \n",
    "y_pred =GNB.predict(x_test)\n",
    "y_pred"
   ]
  },
  {
   "cell_type": "code",
   "execution_count": 46,
   "id": "08d4a359-271a-4f28-b711-5f613c652381",
   "metadata": {},
   "outputs": [
    {
     "name": "stdout",
     "output_type": "stream",
     "text": [
      "The accuracy of Naive Bayes is : 0.7804878048780488\n"
     ]
    }
   ],
   "source": [
    "#evaluate and print the accuarcy \n",
    "print('The accuracy of Naive Bayes is :', metrics.accuracy_score(y_pred,y_test))"
   ]
  }
 ],
 "metadata": {
  "kernelspec": {
   "display_name": "Python 3 (ipykernel)",
   "language": "python",
   "name": "python3"
  },
  "language_info": {
   "codemirror_mode": {
    "name": "ipython",
    "version": 3
   },
   "file_extension": ".py",
   "mimetype": "text/x-python",
   "name": "python",
   "nbconvert_exporter": "python",
   "pygments_lexer": "ipython3",
   "version": "3.11.5"
  }
 },
 "nbformat": 4,
 "nbformat_minor": 5
}
